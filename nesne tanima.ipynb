{
 "cells": [
  {
   "cell_type": "code",
   "execution_count": 1,
   "id": "bf4a0b66",
   "metadata": {},
   "outputs": [],
   "source": [
    "import tensorflow as tf\n",
    "from tensorflow.keras import datasets, layers, models\n",
    "import pandas as pd\n",
    "import numpy as np\n",
    "import matplotlib.pyplot as plt\n"
   ]
  },
  {
   "cell_type": "code",
   "execution_count": 2,
   "id": "7c7e954a",
   "metadata": {},
   "outputs": [
    {
     "name": "stdout",
     "output_type": "stream",
     "text": [
      "Downloading data from https://www.cs.toronto.edu/~kriz/cifar-10-python.tar.gz\n",
      "170500096/170498071 [==============================] - 80s 0us/step\n",
      "170508288/170498071 [==============================] - 80s 0us/step\n"
     ]
    }
   ],
   "source": [
    "(X_train, y_train), (X_test,y_test) = datasets.cifar10.load_data()\n"
   ]
  },
  {
   "cell_type": "code",
   "execution_count": 3,
   "id": "46e28c2f",
   "metadata": {},
   "outputs": [
    {
     "data": {
      "text/plain": [
       "(50000, 32, 32, 3)"
      ]
     },
     "execution_count": 3,
     "metadata": {},
     "output_type": "execute_result"
    }
   ],
   "source": [
    "X_train.shape"
   ]
  },
  {
   "cell_type": "code",
   "execution_count": 4,
   "id": "ce8f44c1",
   "metadata": {},
   "outputs": [
    {
     "data": {
      "text/plain": [
       "(10000, 32, 32, 3)"
      ]
     },
     "execution_count": 4,
     "metadata": {},
     "output_type": "execute_result"
    }
   ],
   "source": [
    "X_test.shape"
   ]
  },
  {
   "cell_type": "code",
   "execution_count": 5,
   "id": "422376c2",
   "metadata": {},
   "outputs": [
    {
     "data": {
      "text/plain": [
       "array([[6],\n",
       "       [9],\n",
       "       [9]], dtype=uint8)"
      ]
     },
     "execution_count": 5,
     "metadata": {},
     "output_type": "execute_result"
    }
   ],
   "source": [
    "y_train[:3]"
   ]
  },
  {
   "cell_type": "markdown",
   "id": "72e20cba",
   "metadata": {},
   "source": [
    "y_train ve y_test 2 boyutlu bir array olarak tutuluyor cifar10 verisetinde. \n",
    "Biz bu verileri görsel olarak daha rahat anlamak için tek boyutlu hale getiriyoruz.\n",
    "2 boyutlu bir arrayi (sadece tekbir boyutunda veri var diğer boyutu boş olan tabi) tekboyutlu hale geitrmek için reshape() kullanıyoruz.."
   ]
  },
  {
   "cell_type": "code",
   "execution_count": 6,
   "id": "a26829fa",
   "metadata": {},
   "outputs": [],
   "source": [
    "y_test = y_test.reshape(-1,)"
   ]
  },
  {
   "cell_type": "code",
   "execution_count": 7,
   "id": "922962d4",
   "metadata": {},
   "outputs": [
    {
     "data": {
      "text/plain": [
       "array([3, 8, 8, ..., 5, 1, 7], dtype=uint8)"
      ]
     },
     "execution_count": 7,
     "metadata": {},
     "output_type": "execute_result"
    }
   ],
   "source": [
    "y_test "
   ]
  },
  {
   "cell_type": "code",
   "execution_count": 8,
   "id": "3b5c6bb2",
   "metadata": {},
   "outputs": [],
   "source": [
    "resim_siniflari = [\"airplane\",\"automobile\",\"bird\",\"cat\",\"deer\",\"dog\",\"frog\",\"horse\",\"ship\",\"truck\"]"
   ]
  },
  {
   "cell_type": "code",
   "execution_count": 9,
   "id": "1a8a38fc",
   "metadata": {},
   "outputs": [],
   "source": [
    "def plot_sample(X, y, index):  #\n",
    "    plt.figure(figsize = (15,2))\n",
    "    plt.imshow(X[index])        \n",
    "    plt.xlabel(resim_siniflari[y[index]])\n",
    "    plt.show()\n"
   ]
  },
  {
   "cell_type": "code",
   "execution_count": 10,
   "id": "a065b909",
   "metadata": {},
   "outputs": [
    {
     "data": {
      "image/png": "[encoded data removed]",
      "text/plain": [
       "<Figure size 1080x144 with 1 Axes>"
      ]
     },
     "metadata": {
      "needs_background": "light"
     },
     "output_type": "display_data"
    }
   ],
   "source": [
    "plot_sample(X_test, y_test, 0)"
   ]
  },
  {
   "cell_type": "code",
   "execution_count": 11,
   "id": "8dee36fa",
   "metadata": {},
   "outputs": [
    {
     "data": {
      "image/png": "[encoded data removed]",
      "text/plain": [
       "<Figure size 1080x144 with 1 Axes>"
      ]
     },
     "metadata": {
      "needs_background": "light"
     },
     "output_type": "display_data"
    }
   ],
   "source": [
    "plot_sample(X_test, y_test, 1)"
   ]
  },
  {
   "cell_type": "code",
   "execution_count": 12,
   "id": "5242f30a",
   "metadata": {},
   "outputs": [
    {
     "data": {
      "image/png": "[encoded data removed]",
      "text/plain": [
       "<Figure size 1080x144 with 1 Axes>"
      ]
     },
     "metadata": {
      "needs_background": "light"
     },
     "output_type": "display_data"
    }
   ],
   "source": [
    "plot_sample(X_test, y_test, 3)"
   ]
  },
  {
   "cell_type": "code",
   "execution_count": 13,
   "id": "f03a46da",
   "metadata": {},
   "outputs": [],
   "source": [
    "X_train = X_train / 255\n",
    "X_test = X_test / 255"
   ]
  },
  {
   "cell_type": "markdown",
   "id": "9c65da4c",
   "metadata": {},
   "source": [
    "### Deep Learning Algoritmamızı CNN - Convolutional Neural Network Kullanarak Tasarlıyoruz:"
   ]
  },
  {
   "cell_type": "code",
   "execution_count": 14,
   "id": "7ad227c3",
   "metadata": {},
   "outputs": [],
   "source": [
    "deep_learning_model = models.Sequential([\n",
    "    # Bu kısımda fotoğraflardan tanımlama yapabilmek için özellikleri çıkarıyoruz\n",
    "    layers.Conv2D(filters=32, kernel_size=(3, 3), activation='relu', input_shape=(32, 32, 3)),\n",
    "    layers.MaxPooling2D((2, 2)),\n",
    "    \n",
    "    layers.Conv2D(filters=64, kernel_size=(3, 3), activation='relu'),\n",
    "    layers.MaxPooling2D((2, 2)),\n",
    "    \n",
    "    #Yukarıdaki özelliklerimiz ve training bilgilerine göre ANN modelimizi eğiteceğiz.\n",
    "    layers.Flatten(),\n",
    "    layers.Dense(64, activation='relu'),\n",
    "    layers.Dense(10, activation='softmax')\n",
    "])"
   ]
  },
  {
   "cell_type": "code",
   "execution_count": 15,
   "id": "ea797643",
   "metadata": {},
   "outputs": [],
   "source": [
    "deep_learning_model.compile(optimizer='adam',\n",
    "              loss='sparse_categorical_crossentropy',\n",
    "              metrics=['accuracy'])"
   ]
  },
  {
   "cell_type": "markdown",
   "id": "a0fa9a5f",
   "metadata": {},
   "source": [
    "# Model eğitimi"
   ]
  },
  {
   "cell_type": "code",
   "execution_count": 16,
   "id": "758a9635",
   "metadata": {},
   "outputs": [
    {
     "name": "stdout",
     "output_type": "stream",
     "text": [
      "Epoch 1/5\n",
      "1563/1563 [==============================] - 38s 21ms/step - loss: 1.4604 - accuracy: 0.4761\n",
      "Epoch 2/5\n",
      "1563/1563 [==============================] - 36s 23ms/step - loss: 1.1055 - accuracy: 0.6118\n",
      "Epoch 3/5\n",
      "1563/1563 [==============================] - 36s 23ms/step - loss: 0.9718 - accuracy: 0.6637\n",
      "Epoch 4/5\n",
      "1563/1563 [==============================] - 40s 26ms/step - loss: 0.8848 - accuracy: 0.6923\n",
      "Epoch 5/5\n",
      "1563/1563 [==============================] - 34s 22ms/step - loss: 0.8172 - accuracy: 0.7145\n"
     ]
    },
    {
     "data": {
      "text/plain": [
       "<keras.callbacks.History at 0x1d90002be50>"
      ]
     },
     "execution_count": 16,
     "metadata": {},
     "output_type": "execute_result"
    }
   ],
   "source": [
    "deep_learning_model.fit(X_train, y_train, epochs=5)"
   ]
  },
  {
   "cell_type": "code",
   "execution_count": 17,
   "id": "16b3d698",
   "metadata": {},
   "outputs": [
    {
     "name": "stdout",
     "output_type": "stream",
     "text": [
      "313/313 [==============================] - 2s 5ms/step - loss: 0.9418 - accuracy: 0.6846\n"
     ]
    },
    {
     "data": {
      "text/plain": [
       "[0.9417847394943237, 0.6845999956130981]"
      ]
     },
     "execution_count": 17,
     "metadata": {},
     "output_type": "execute_result"
    }
   ],
   "source": [
    "deep_learning_model.evaluate(X_test,y_test)"
   ]
  },
  {
   "cell_type": "code",
   "execution_count": 18,
   "id": "daa7b9e1",
   "metadata": {},
   "outputs": [
    {
     "data": {
      "text/plain": [
       "array([[6.5237947e-04, 8.3471095e-04, 3.1828708e-03, 3.9607802e-01,\n",
       "        1.3668797e-03, 1.6292991e-01, 5.4938957e-02, 2.4343212e-04,\n",
       "        3.7502703e-01, 4.7457567e-03],\n",
       "       [1.2752097e-02, 4.5789459e-01, 4.5844052e-05, 1.1366438e-06,\n",
       "        6.4277274e-06, 1.0122342e-06, 7.1270561e-06, 3.0699309e-06,\n",
       "        5.2677792e-01, 2.5107882e-03],\n",
       "       [3.1507161e-02, 3.7539297e-01, 1.1920211e-03, 5.5567119e-03,\n",
       "        2.1713111e-03, 2.7499928e-03, 4.1873818e-03, 2.6001767e-03,\n",
       "        5.4276752e-01, 3.1874750e-02]], dtype=float32)"
      ]
     },
     "execution_count": 18,
     "metadata": {},
     "output_type": "execute_result"
    }
   ],
   "source": [
    "y_pred = deep_learning_model.predict(X_test)\n",
    "y_pred[:3]"
   ]
  },
  {
   "cell_type": "code",
   "execution_count": 19,
   "id": "2e3fa72f",
   "metadata": {},
   "outputs": [
    {
     "data": {
      "text/plain": [
       "[3, 8, 8]"
      ]
     },
     "execution_count": 19,
     "metadata": {},
     "output_type": "execute_result"
    }
   ],
   "source": [
    "y_predictions_siniflari = [np.argmax(element) for element in y_pred]\n",
    "y_predictions_siniflari[:3]"
   ]
  },
  {
   "cell_type": "code",
   "execution_count": 20,
   "id": "86a95599",
   "metadata": {},
   "outputs": [
    {
     "data": {
      "text/plain": [
       "array([3, 8, 8], dtype=uint8)"
      ]
     },
     "execution_count": 20,
     "metadata": {},
     "output_type": "execute_result"
    }
   ],
   "source": [
    "y_test[:3]"
   ]
  },
  {
   "cell_type": "code",
   "execution_count": 21,
   "id": "e6da0a7b",
   "metadata": {},
   "outputs": [
    {
     "data": {
      "image/png": "[encoded data removed]",
      "text/plain": [
       "<Figure size 1080x144 with 1 Axes>"
      ]
     },
     "metadata": {
      "needs_background": "light"
     },
     "output_type": "display_data"
    }
   ],
   "source": [
    "plot_sample(X_test, y_test,0)"
   ]
  },
  {
   "cell_type": "code",
   "execution_count": 22,
   "id": "ce1c9d65",
   "metadata": {},
   "outputs": [
    {
     "data": {
      "text/plain": [
       "'cat'"
      ]
     },
     "execution_count": 22,
     "metadata": {},
     "output_type": "execute_result"
    }
   ],
   "source": [
    "resim_siniflari[y_predictions_siniflari[0]]"
   ]
  },
  {
   "cell_type": "code",
   "execution_count": 23,
   "id": "671acd2a",
   "metadata": {},
   "outputs": [
    {
     "data": {
      "image/png": "[encoded data removed]",
      "text/plain": [
       "<Figure size 1080x144 with 1 Axes>"
      ]
     },
     "metadata": {
      "needs_background": "light"
     },
     "output_type": "display_data"
    }
   ],
   "source": [
    "plot_sample(X_test, y_test,1)"
   ]
  },
  {
   "cell_type": "code",
   "execution_count": null,
   "id": "ccb8fffa",
   "metadata": {},
   "outputs": [],
   "source": [
    "resim_siniflari[y_predictions_siniflari[1]]"
   ]
  },
  {
   "cell_type": "code",
   "execution_count": null,
   "id": "65effc16",
   "metadata": {},
   "outputs": [],
   "source": [
    "plot_sample(X_test, y_test,2)"
   ]
  },
  {
   "cell_type": "code",
   "execution_count": null,
   "id": "1368787b",
   "metadata": {},
   "outputs": [],
   "source": [
    "resim_siniflari[y_predictions_siniflari[2]]"
   ]
  },
  {
   "cell_type": "code",
   "execution_count": null,
   "id": "b4b41878",
   "metadata": {},
   "outputs": [],
   "source": []
  },
  {
   "cell_type": "code",
   "execution_count": null,
   "id": "69622891",
   "metadata": {},
   "outputs": [],
   "source": []
  }
 ],
 "metadata": {
  "kernelspec": {
   "display_name": "Python 3 (ipykernel)",
   "language": "python",
   "name": "python3"
  },
  "language_info": {
   "codemirror_mode": {
    "name": "ipython",
    "version": 3
   },
   "file_extension": ".py",
   "mimetype": "text/x-python",
   "name": "python",
   "nbconvert_exporter": "python",
   "pygments_lexer": "ipython3",
   "version": "3.10.4"
  }
 },
 "nbformat": 4,
 "nbformat_minor": 5
}
